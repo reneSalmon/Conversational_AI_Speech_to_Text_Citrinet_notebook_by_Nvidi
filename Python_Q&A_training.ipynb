{
  "nbformat": 4,
  "nbformat_minor": 0,
  "metadata": {
    "colab": {
      "provenance": [],
      "authorship_tag": "ABX9TyOOuIO4QiHy0+Vt3Hxn6oMo",
      "include_colab_link": true
    },
    "kernelspec": {
      "name": "python3",
      "display_name": "Python 3"
    },
    "language_info": {
      "name": "python"
    }
  },
  "cells": [
    {
      "cell_type": "markdown",
      "metadata": {
        "id": "view-in-github",
        "colab_type": "text"
      },
      "source": [
        "<a href=\"https://colab.research.google.com/github/reneSalmon/Conversational_AI_Speech_to_Text_Citrinet_notebook_by_Nvidia/blob/main/Python_Q%26A_training.ipynb\" target=\"_parent\"><img src=\"https://colab.research.google.com/assets/colab-badge.svg\" alt=\"Open In Colab\"/></a>"
      ]
    },
    {
      "cell_type": "markdown",
      "source": [
        "## **Python Assessment_Quiz**\n",
        "\n",
        "Question_source: https://github.com/Ebazhanov/linkedin-skill-assessments-quizzes/blob/main/agile-methodologies/agile-methodologies-quiz.md"
      ],
      "metadata": {
        "id": "8XVF6v909QnO"
      }
    },
    {
      "cell_type": "markdown",
      "source": [
        "What is an abstract class?"
      ],
      "metadata": {
        "id": "8GyIH2QxtgSC"
      }
    },
    {
      "cell_type": "code",
      "execution_count": 1,
      "metadata": {
        "colab": {
          "base_uri": "https://localhost:8080/"
        },
        "id": "xRPedpVvtPZG",
        "outputId": "4e73b0fc-696c-4f63-8325-618247da4c71"
      },
      "outputs": [
        {
          "output_type": "stream",
          "name": "stdout",
          "text": [
            "I have 3 sides\n",
            "I have 4 sides\n",
            "I have 5 sides\n",
            "I have 6 sides\n"
          ]
        }
      ],
      "source": [
        "# Python program showing\n",
        "# abstract base class work\n",
        " \n",
        "from abc import ABC, abstractmethod\n",
        " \n",
        "class Polygon(ABC):\n",
        " \n",
        "    @abstractmethod\n",
        "    def noofsides(self):\n",
        "        pass\n",
        " \n",
        "class Triangle(Polygon):\n",
        " \n",
        "    # overriding abstract method\n",
        "    def noofsides(self):\n",
        "        print(\"I have 3 sides\")\n",
        " \n",
        "class Pentagon(Polygon):\n",
        " \n",
        "    # overriding abstract method\n",
        "    def noofsides(self):\n",
        "        print(\"I have 5 sides\")\n",
        " \n",
        "class Hexagon(Polygon):\n",
        " \n",
        "    # overriding abstract method\n",
        "    def noofsides(self):\n",
        "        print(\"I have 6 sides\")\n",
        " \n",
        "class Quadrilateral(Polygon):\n",
        " \n",
        "    # overriding abstract method\n",
        "    def noofsides(self):\n",
        "        print(\"I have 4 sides\")\n",
        " \n",
        "# Driver code\n",
        "R = Triangle()\n",
        "R.noofsides()\n",
        " \n",
        "K = Quadrilateral()\n",
        "K.noofsides()\n",
        " \n",
        "R = Pentagon()\n",
        "R.noofsides()\n",
        " \n",
        "K = Hexagon()\n",
        "K.noofsides()"
      ]
    },
    {
      "cell_type": "markdown",
      "source": [
        "What happens when you use the build-in function any() on a list?"
      ],
      "metadata": {
        "id": "YsOhQhsdtrnm"
      }
    },
    {
      "cell_type": "code",
      "source": [
        "if any([True, False, False, False]) == True:\n",
        "    print('Yes, there is True')"
      ],
      "metadata": {
        "colab": {
          "base_uri": "https://localhost:8080/"
        },
        "id": "uFDe0wUPtu_B",
        "outputId": "e30e01b1-bc5b-4cb9-ccbd-07d082b9f664"
      },
      "execution_count": 2,
      "outputs": [
        {
          "output_type": "stream",
          "name": "stdout",
          "text": [
            "Yes, there is True\n"
          ]
        }
      ]
    },
    {
      "cell_type": "code",
      "source": [
        "My_list = [\"house\", \"garden\", \"park\", \"tree\"]\n",
        "if any(My_list) == \"house\":\n",
        "    print('Yes, there is True')\n",
        "\n",
        "#Does not work. Works only for lists with boolean datatypes"
      ],
      "metadata": {
        "id": "eKgNOPjgt0iQ"
      },
      "execution_count": 4,
      "outputs": []
    },
    {
      "cell_type": "markdown",
      "source": [
        "What are attributes?"
      ],
      "metadata": {
        "id": "-PaHgnNWuuI-"
      }
    },
    {
      "cell_type": "code",
      "source": [
        "#Attributes are a way to hold data \n",
        "#or describe a state for a class or an instance of a class.\n",
        "\n",
        "# Example 1\n",
        "class classA(object):\n",
        "    classAtr = \"I am a class attribute.\"\n",
        "\n",
        "obj1 = classA()\n",
        "obj2 = classA()\n",
        "\n",
        "classA.classAtr = \"I changed the class attribute.\" \n",
        "\n",
        "print(obj1.classAtr)\n",
        "print(obj2.classAtr)"
      ],
      "metadata": {
        "colab": {
          "base_uri": "https://localhost:8080/"
        },
        "id": "CL-3k3AJuKml",
        "outputId": "a5b76df2-976b-4a43-d2fa-5576c2f69d23"
      },
      "execution_count": 6,
      "outputs": [
        {
          "output_type": "stream",
          "name": "stdout",
          "text": [
            "I changed the class attribute.\n",
            "I changed the class attribute.\n"
          ]
        }
      ]
    },
    {
      "cell_type": "code",
      "source": [
        "#Eample 2\n",
        "class classA(object):\n",
        "    classAtr = \"I am a class attribute.\"\n",
        "\n",
        "obj1 = classA()\n",
        "obj2 = classA()\n",
        "\n",
        "obj1.classAtr = \"abc\" \n",
        "\n",
        "print(obj1.classAtr)\n",
        "print(obj2.classAtr)"
      ],
      "metadata": {
        "colab": {
          "base_uri": "https://localhost:8080/"
        },
        "id": "fXIc4wDk1s4o",
        "outputId": "55557d3b-fec1-404f-967b-481bfd6bf526"
      },
      "execution_count": 7,
      "outputs": [
        {
          "output_type": "stream",
          "name": "stdout",
          "text": [
            "abc\n",
            "I am a class attribute.\n"
          ]
        }
      ]
    },
    {
      "cell_type": "code",
      "source": [
        "#Example 3\n",
        "class classA(object):\n",
        "    classAtr = \"I am the same for all objects.\"\n",
        "\n",
        "    def __init__(self, ins_var):\n",
        "        self.instanceVar = ins_var\n",
        "\n",
        "# Make 3 objects and initialise them with different values\n",
        "obj1 = classA(5)\n",
        "obj2 = classA(10)\n",
        "obj3 = classA(15)\n",
        "\n",
        "print(\"I am obj1 and my attributes are: \")\n",
        "print(\"Class Attribute: \", obj1.classAtr)\n",
        "print(\"Instance Attribute:\", obj1.instanceVar ,\"\\n\")\n",
        "\n",
        "print(\"I am obj2 and my attributes are: \")\n",
        "print(\"Class Attribute: \", obj2.classAtr)\n",
        "print(\"Instance Attribute: \", obj2.instanceVar, \"\\n\")\n",
        "\n",
        "print(\"I am obj3 and my attributes are: \")\n",
        "print(\"Class Attribute: \", obj3.classAtr)\n",
        "print(\"Instance Attribute: \", obj3.instanceVar, \"\\n\")"
      ],
      "metadata": {
        "colab": {
          "base_uri": "https://localhost:8080/"
        },
        "id": "SW2HQLuD2atS",
        "outputId": "0c2c493e-fae5-4ab0-de54-01938fdf57e4"
      },
      "execution_count": 9,
      "outputs": [
        {
          "output_type": "stream",
          "name": "stdout",
          "text": [
            "I am obj1 and my attributes are: \n",
            "Class Attribute:  I am the same for all objects.\n",
            "Instance Attribute: 5 \n",
            "\n",
            "I am obj2 and my attributes are: \n",
            "Class Attribute:  I am the same for all objects.\n",
            "Instance Attribute:  10 \n",
            "\n",
            "I am obj3 and my attributes are: \n",
            "Class Attribute:  I am the same for all objects.\n",
            "Instance Attribute:  15 \n",
            "\n"
          ]
        }
      ]
    },
    {
      "cell_type": "markdown",
      "source": [
        "What is the term to describe this code?"
      ],
      "metadata": {
        "id": "KlyDHxD15Drg"
      }
    },
    {
      "cell_type": "code",
      "source": [
        "count, fruit, price = (2, 'apple', 3.5)\n",
        "new_list = [count, fruit, price]\n",
        "print(count, fruit, price)\n",
        "print(new_list)"
      ],
      "metadata": {
        "colab": {
          "base_uri": "https://localhost:8080/"
        },
        "id": "9J2Y2ViS22g_",
        "outputId": "b198ba50-1a6b-4f1e-d24d-5bd9e3705851"
      },
      "execution_count": 13,
      "outputs": [
        {
          "output_type": "stream",
          "name": "stdout",
          "text": [
            "2 apple 3.5\n",
            "[2, 'apple', 3.5]\n"
          ]
        }
      ]
    },
    {
      "cell_type": "code",
      "source": [
        "#=> tuple unpacking"
      ],
      "metadata": {
        "id": "0CKQg--V4ciG"
      },
      "execution_count": 14,
      "outputs": []
    },
    {
      "cell_type": "markdown",
      "source": [
        "What built-in list method would you use to remove items from a list?"
      ],
      "metadata": {
        "id": "D2VBP0bv5amq"
      }
    },
    {
      "cell_type": "code",
      "source": [
        "list_2 = [1,2,4]\n",
        "list_2.pop(2)\n",
        "print(list_2)"
      ],
      "metadata": {
        "colab": {
          "base_uri": "https://localhost:8080/"
        },
        "id": "k8gaHp_J5LDe",
        "outputId": "cae9130d-abd8-4a79-91e1-204efa223505"
      },
      "execution_count": 16,
      "outputs": [
        {
          "output_type": "stream",
          "name": "stdout",
          "text": [
            "[1, 2]\n"
          ]
        }
      ]
    },
    {
      "cell_type": "markdown",
      "source": [
        "What is the correct syntax for defining a class called Game, if it inherits from a parent class called LogicGame?"
      ],
      "metadata": {
        "id": "XuCNjvlo7JFD"
      }
    },
    {
      "cell_type": "code",
      "source": [
        "class Game(LogicGame): pass\n",
        "#The parent class which is inherited is passed as an argument \n",
        "#to the child class"
      ],
      "metadata": {
        "id": "t2bwRL8h5n2N"
      },
      "execution_count": 18,
      "outputs": []
    },
    {
      "cell_type": "code",
      "source": [],
      "metadata": {
        "id": "xvvgb9GL7ctO"
      },
      "execution_count": null,
      "outputs": []
    }
  ]
}